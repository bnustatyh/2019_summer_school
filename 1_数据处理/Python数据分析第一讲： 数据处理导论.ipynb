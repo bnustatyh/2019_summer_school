{
 "cells": [
  {
   "cell_type": "markdown",
   "metadata": {},
   "source": [
    "# 第一讲： 数据处理导论\n",
    "\n",
    "如何写出业界水准的数据处理程序\n"
   ]
  },
  {
   "cell_type": "markdown",
   "metadata": {},
   "source": [
    "## 大纲\n",
    "\n",
    "* 思维框架\n",
    "* 基本概念\n",
    "* Jupyter Notebook 小技巧\n"
   ]
  },
  {
   "cell_type": "markdown",
   "metadata": {},
   "source": [
    "## 思维框架\n",
    "\n",
    "建立ETL的思维框架\n",
    "\n",
    "Extract(抽取) --> Transform(转换) --> Load(加载)\n",
    "\n",
    "把处理数据想象成做菜：\n",
    "\n",
    "* 未处理的原始数据 = 做菜的原材料，比如各种蔬菜、肉类和调料\n",
    "* 抽取 = 把食物、调料从冰箱、储物柜中取出。有些不易获得的材料，我们需要专门打电话叫人送上们。\n",
    "* 转换 = 把原材料做成我们需要的菜肴\n",
    "* 加载 = 把菜肴装盘上桌，或者存入冰箱供后续使用\n"
   ]
  },
  {
   "cell_type": "markdown",
   "metadata": {
    "ExecuteTime": {
     "end_time": "2019-07-21T09:36:19.389272Z",
     "start_time": "2019-07-21T09:36:19.296640Z"
    }
   },
   "source": [
    "### Extract（抽取）\n",
    "\n",
    "把数据从各种来源抽过来，放到staging(工作台)上。\n",
    "\n",
    "我们需要学习如何从不同的数据源抽取数据。\n"
   ]
  },
  {
   "cell_type": "markdown",
   "metadata": {
    "ExecuteTime": {
     "end_time": "2019-07-21T09:49:21.502987Z",
     "start_time": "2019-07-21T09:49:21.498597Z"
    }
   },
   "source": [
    "可能的数据来源：\n",
    "- 本地储存的文件（比如csv，excel文件，常见于学生作业或者临时处理的需求）\n",
    "- 数据库（比如MySQL，Hive等，常见于工作中的数据处理，也是业界最常见的形式）\n",
    "- 云储存上的文件（比如AWS S3，常见于业界的大文件存储，通常是针对特殊的需求）\n"
   ]
  },
  {
   "cell_type": "markdown",
   "metadata": {},
   "source": [
    "staging：把需要处理的数据都放到同一个地方，方便进行操作。操作台可以指你存放数据的文件夹、专门用于处理数据的数据库等等\n",
    "\n",
    "\n"
   ]
  },
  {
   "cell_type": "markdown",
   "metadata": {},
   "source": [
    "### Transform（转换）\n",
    "\n",
    "把原始数据加工成目标数据\n",
    "\n",
    "这是ETL三个步骤中最复杂的部分，工序最多。\n",
    "\n",
    "我们需要了解都有哪些常用的工序，每道工序又需要如何进行操作。\n",
    "\n",
    "下周我们会用两天时间来讲每一道工序的各种细节\n",
    "\n",
    "常见的工序：\n",
    "* 去重\n",
    "* 填充Null值\n",
    "* 文本处理\n",
    "* 聚合计算\n",
    "* 数据规整\n",
    "* 窗口计算\n",
    "* 时间序列计算\n",
    "* 数据查询"
   ]
  },
  {
   "cell_type": "markdown",
   "metadata": {
    "ExecuteTime": {
     "end_time": "2019-07-21T10:09:05.479183Z",
     "start_time": "2019-07-21T10:09:05.338948Z"
    }
   },
   "source": [
    "### Load（加载）\n",
    "\n",
    "\n",
    "处理好的数据，还需要放到合适储存位置，供后续使用\n",
    "\n",
    "常见的储存位置：\n",
    "\n",
    "- 直接用于可视化图表呈现\n",
    "- 数据库（业界最常用的存储形式）\n",
    "- 本地文件（常见于学生作业、临时需求）\n",
    "\n",
    "\n"
   ]
  },
  {
   "cell_type": "markdown",
   "metadata": {},
   "source": [
    "## 基本概念"
   ]
  },
  {
   "cell_type": "markdown",
   "metadata": {
    "ExecuteTime": {
     "end_time": "2019-07-21T10:24:01.758488Z",
     "start_time": "2019-07-21T10:24:01.752274Z"
    }
   },
   "source": [
    "数据处理程序，在ETL的思维框架下，以DataFrame为核心构建的一套处理流程。\n",
    "\n",
    "基本理念: 代码要清晰地展示DataFrame的流转情况\n",
    "\n",
    "我们接下来将以Python的数据处理包 pandas 为主要的学习对象，学习如何用pandas来处理数据，为此需要先了解几个基本概念\n",
    "\n",
    "* DataFrame：一个有结构的二维数组，二维表数据处理的核心，从数据源拿到操作台上的就是若干个DataFrame\n",
    "* Column：操作的最小单元，一般是以列为对象进行操作。在pandas中又称为Series\n",
    "* Row：一般不会直接选取，而是根据Column的条件来取若干Row\n"
   ]
  },
  {
   "cell_type": "markdown",
   "metadata": {},
   "source": [
    "### DataFrame"
   ]
  },
  {
   "cell_type": "code",
   "execution_count": 34,
   "metadata": {
    "scrolled": true
   },
   "outputs": [
    {
     "data": {
      "text/html": [
       "<div>\n",
       "<style scoped>\n",
       "    .dataframe tbody tr th:only-of-type {\n",
       "        vertical-align: middle;\n",
       "    }\n",
       "\n",
       "    .dataframe tbody tr th {\n",
       "        vertical-align: top;\n",
       "    }\n",
       "\n",
       "    .dataframe thead th {\n",
       "        text-align: right;\n",
       "    }\n",
       "</style>\n",
       "<table border=\"1\" class=\"dataframe\">\n",
       "  <thead>\n",
       "    <tr style=\"text-align: right;\">\n",
       "      <th></th>\n",
       "      <th>id</th>\n",
       "      <th>group</th>\n",
       "      <th>value</th>\n",
       "    </tr>\n",
       "  </thead>\n",
       "  <tbody>\n",
       "    <tr>\n",
       "      <th>0</th>\n",
       "      <td>1</td>\n",
       "      <td>x</td>\n",
       "      <td>0.45</td>\n",
       "    </tr>\n",
       "    <tr>\n",
       "      <th>1</th>\n",
       "      <td>2</td>\n",
       "      <td>x</td>\n",
       "      <td>0.67</td>\n",
       "    </tr>\n",
       "    <tr>\n",
       "      <th>2</th>\n",
       "      <td>3</td>\n",
       "      <td>x</td>\n",
       "      <td>NaN</td>\n",
       "    </tr>\n",
       "    <tr>\n",
       "      <th>3</th>\n",
       "      <td>4</td>\n",
       "      <td>y</td>\n",
       "      <td>0.47</td>\n",
       "    </tr>\n",
       "  </tbody>\n",
       "</table>\n",
       "</div>"
      ],
      "text/plain": [
       "   id group  value\n",
       "0   1     x   0.45\n",
       "1   2     x   0.67\n",
       "2   3     x    NaN\n",
       "3   4     y   0.47"
      ]
     },
     "execution_count": 34,
     "metadata": {},
     "output_type": "execute_result"
    }
   ],
   "source": [
    "import pandas as pd\n",
    "\n",
    "data = [\n",
    "    [1,'x',0.45],\n",
    "    [2,'x',0.67],\n",
    "    [3,'x',None],\n",
    "    [4,'y',0.47],\n",
    "]\n",
    "df1 = pd.DataFrame(data,columns=['id','group','value'])\n",
    "df1\n"
   ]
  },
  {
   "cell_type": "code",
   "execution_count": 35,
   "metadata": {},
   "outputs": [
    {
     "data": {
      "text/html": [
       "<div>\n",
       "<style scoped>\n",
       "    .dataframe tbody tr th:only-of-type {\n",
       "        vertical-align: middle;\n",
       "    }\n",
       "\n",
       "    .dataframe tbody tr th {\n",
       "        vertical-align: top;\n",
       "    }\n",
       "\n",
       "    .dataframe thead th {\n",
       "        text-align: right;\n",
       "    }\n",
       "</style>\n",
       "<table border=\"1\" class=\"dataframe\">\n",
       "  <thead>\n",
       "    <tr style=\"text-align: right;\">\n",
       "      <th></th>\n",
       "      <th>id</th>\n",
       "      <th>group</th>\n",
       "      <th>value</th>\n",
       "    </tr>\n",
       "  </thead>\n",
       "  <tbody>\n",
       "    <tr>\n",
       "      <th>0</th>\n",
       "      <td>4</td>\n",
       "      <td>y</td>\n",
       "      <td>0.89</td>\n",
       "    </tr>\n",
       "    <tr>\n",
       "      <th>1</th>\n",
       "      <td>5</td>\n",
       "      <td>y</td>\n",
       "      <td>0.73</td>\n",
       "    </tr>\n",
       "    <tr>\n",
       "      <th>2</th>\n",
       "      <td>6</td>\n",
       "      <td>y</td>\n",
       "      <td>0.92</td>\n",
       "    </tr>\n",
       "  </tbody>\n",
       "</table>\n",
       "</div>"
      ],
      "text/plain": [
       "   id group  value\n",
       "0   4     y   0.89\n",
       "1   5     y   0.73\n",
       "2   6     y   0.92"
      ]
     },
     "execution_count": 35,
     "metadata": {},
     "output_type": "execute_result"
    }
   ],
   "source": [
    "data = [\n",
    "    [4,'y',0.89],\n",
    "    [5,'y',0.73],\n",
    "    [6,'y',0.92],\n",
    "]\n",
    "df2 = pd.DataFrame(data,columns=['id','group','value'])\n",
    "df2"
   ]
  },
  {
   "cell_type": "markdown",
   "metadata": {},
   "source": [
    "#### 数据规整"
   ]
  },
  {
   "cell_type": "code",
   "execution_count": 36,
   "metadata": {
    "scrolled": false
   },
   "outputs": [
    {
     "name": "stdout",
     "output_type": "stream",
     "text": [
      "========= 合并 =========\n"
     ]
    },
    {
     "data": {
      "text/html": [
       "<div>\n",
       "<style scoped>\n",
       "    .dataframe tbody tr th:only-of-type {\n",
       "        vertical-align: middle;\n",
       "    }\n",
       "\n",
       "    .dataframe tbody tr th {\n",
       "        vertical-align: top;\n",
       "    }\n",
       "\n",
       "    .dataframe thead th {\n",
       "        text-align: right;\n",
       "    }\n",
       "</style>\n",
       "<table border=\"1\" class=\"dataframe\">\n",
       "  <thead>\n",
       "    <tr style=\"text-align: right;\">\n",
       "      <th></th>\n",
       "      <th>index</th>\n",
       "      <th>id</th>\n",
       "      <th>group</th>\n",
       "      <th>value</th>\n",
       "    </tr>\n",
       "  </thead>\n",
       "  <tbody>\n",
       "    <tr>\n",
       "      <th>0</th>\n",
       "      <td>0</td>\n",
       "      <td>1</td>\n",
       "      <td>x</td>\n",
       "      <td>0.45</td>\n",
       "    </tr>\n",
       "    <tr>\n",
       "      <th>1</th>\n",
       "      <td>1</td>\n",
       "      <td>2</td>\n",
       "      <td>x</td>\n",
       "      <td>0.67</td>\n",
       "    </tr>\n",
       "    <tr>\n",
       "      <th>2</th>\n",
       "      <td>2</td>\n",
       "      <td>3</td>\n",
       "      <td>x</td>\n",
       "      <td>NaN</td>\n",
       "    </tr>\n",
       "    <tr>\n",
       "      <th>3</th>\n",
       "      <td>3</td>\n",
       "      <td>4</td>\n",
       "      <td>y</td>\n",
       "      <td>0.47</td>\n",
       "    </tr>\n",
       "    <tr>\n",
       "      <th>4</th>\n",
       "      <td>0</td>\n",
       "      <td>4</td>\n",
       "      <td>y</td>\n",
       "      <td>0.89</td>\n",
       "    </tr>\n",
       "    <tr>\n",
       "      <th>5</th>\n",
       "      <td>1</td>\n",
       "      <td>5</td>\n",
       "      <td>y</td>\n",
       "      <td>0.73</td>\n",
       "    </tr>\n",
       "    <tr>\n",
       "      <th>6</th>\n",
       "      <td>2</td>\n",
       "      <td>6</td>\n",
       "      <td>y</td>\n",
       "      <td>0.92</td>\n",
       "    </tr>\n",
       "  </tbody>\n",
       "</table>\n",
       "</div>"
      ],
      "text/plain": [
       "   index  id group  value\n",
       "0      0   1     x   0.45\n",
       "1      1   2     x   0.67\n",
       "2      2   3     x    NaN\n",
       "3      3   4     y   0.47\n",
       "4      0   4     y   0.89\n",
       "5      1   5     y   0.73\n",
       "6      2   6     y   0.92"
      ]
     },
     "metadata": {},
     "output_type": "display_data"
    },
    {
     "name": "stdout",
     "output_type": "stream",
     "text": [
      "========= 选取 =========\n"
     ]
    },
    {
     "data": {
      "text/html": [
       "<div>\n",
       "<style scoped>\n",
       "    .dataframe tbody tr th:only-of-type {\n",
       "        vertical-align: middle;\n",
       "    }\n",
       "\n",
       "    .dataframe tbody tr th {\n",
       "        vertical-align: top;\n",
       "    }\n",
       "\n",
       "    .dataframe thead th {\n",
       "        text-align: right;\n",
       "    }\n",
       "</style>\n",
       "<table border=\"1\" class=\"dataframe\">\n",
       "  <thead>\n",
       "    <tr style=\"text-align: right;\">\n",
       "      <th></th>\n",
       "      <th>index</th>\n",
       "      <th>id</th>\n",
       "      <th>group</th>\n",
       "      <th>value</th>\n",
       "    </tr>\n",
       "  </thead>\n",
       "  <tbody>\n",
       "    <tr>\n",
       "      <th>0</th>\n",
       "      <td>0</td>\n",
       "      <td>1</td>\n",
       "      <td>x</td>\n",
       "      <td>0.45</td>\n",
       "    </tr>\n",
       "    <tr>\n",
       "      <th>1</th>\n",
       "      <td>1</td>\n",
       "      <td>2</td>\n",
       "      <td>x</td>\n",
       "      <td>0.67</td>\n",
       "    </tr>\n",
       "    <tr>\n",
       "      <th>2</th>\n",
       "      <td>2</td>\n",
       "      <td>3</td>\n",
       "      <td>x</td>\n",
       "      <td>NaN</td>\n",
       "    </tr>\n",
       "  </tbody>\n",
       "</table>\n",
       "</div>"
      ],
      "text/plain": [
       "   index  id group  value\n",
       "0      0   1     x   0.45\n",
       "1      1   2     x   0.67\n",
       "2      2   3     x    NaN"
      ]
     },
     "execution_count": 36,
     "metadata": {},
     "output_type": "execute_result"
    }
   ],
   "source": [
    "# 合并\n",
    "print(\"========= 合并 =========\")\n",
    "df = pd.concat([df1,df2])\n",
    "df = df.reset_index()\n",
    "display(df)\n",
    "# 选取部分数据\n",
    "print(\"========= 选取 =========\")\n",
    "df[df['group']=='x']"
   ]
  },
  {
   "cell_type": "markdown",
   "metadata": {},
   "source": [
    "#### 数据清洗"
   ]
  },
  {
   "cell_type": "code",
   "execution_count": 40,
   "metadata": {},
   "outputs": [
    {
     "name": "stdout",
     "output_type": "stream",
     "text": [
      "========= 填充空值 =========\n"
     ]
    },
    {
     "data": {
      "text/html": [
       "<div>\n",
       "<style scoped>\n",
       "    .dataframe tbody tr th:only-of-type {\n",
       "        vertical-align: middle;\n",
       "    }\n",
       "\n",
       "    .dataframe tbody tr th {\n",
       "        vertical-align: top;\n",
       "    }\n",
       "\n",
       "    .dataframe thead th {\n",
       "        text-align: right;\n",
       "    }\n",
       "</style>\n",
       "<table border=\"1\" class=\"dataframe\">\n",
       "  <thead>\n",
       "    <tr style=\"text-align: right;\">\n",
       "      <th></th>\n",
       "      <th>index</th>\n",
       "      <th>id</th>\n",
       "      <th>group</th>\n",
       "      <th>value</th>\n",
       "    </tr>\n",
       "  </thead>\n",
       "  <tbody>\n",
       "    <tr>\n",
       "      <th>0</th>\n",
       "      <td>0</td>\n",
       "      <td>1</td>\n",
       "      <td>x</td>\n",
       "      <td>0.45</td>\n",
       "    </tr>\n",
       "    <tr>\n",
       "      <th>1</th>\n",
       "      <td>1</td>\n",
       "      <td>2</td>\n",
       "      <td>x</td>\n",
       "      <td>0.67</td>\n",
       "    </tr>\n",
       "    <tr>\n",
       "      <th>2</th>\n",
       "      <td>2</td>\n",
       "      <td>3</td>\n",
       "      <td>x</td>\n",
       "      <td>0.00</td>\n",
       "    </tr>\n",
       "    <tr>\n",
       "      <th>3</th>\n",
       "      <td>3</td>\n",
       "      <td>4</td>\n",
       "      <td>y</td>\n",
       "      <td>0.47</td>\n",
       "    </tr>\n",
       "    <tr>\n",
       "      <th>4</th>\n",
       "      <td>0</td>\n",
       "      <td>4</td>\n",
       "      <td>y</td>\n",
       "      <td>0.89</td>\n",
       "    </tr>\n",
       "    <tr>\n",
       "      <th>5</th>\n",
       "      <td>1</td>\n",
       "      <td>5</td>\n",
       "      <td>y</td>\n",
       "      <td>0.73</td>\n",
       "    </tr>\n",
       "    <tr>\n",
       "      <th>6</th>\n",
       "      <td>2</td>\n",
       "      <td>6</td>\n",
       "      <td>y</td>\n",
       "      <td>0.92</td>\n",
       "    </tr>\n",
       "  </tbody>\n",
       "</table>\n",
       "</div>"
      ],
      "text/plain": [
       "   index  id group  value\n",
       "0      0   1     x   0.45\n",
       "1      1   2     x   0.67\n",
       "2      2   3     x   0.00\n",
       "3      3   4     y   0.47\n",
       "4      0   4     y   0.89\n",
       "5      1   5     y   0.73\n",
       "6      2   6     y   0.92"
      ]
     },
     "metadata": {},
     "output_type": "display_data"
    },
    {
     "name": "stdout",
     "output_type": "stream",
     "text": [
      "========= 去除重复 =========\n"
     ]
    },
    {
     "data": {
      "text/html": [
       "<div>\n",
       "<style scoped>\n",
       "    .dataframe tbody tr th:only-of-type {\n",
       "        vertical-align: middle;\n",
       "    }\n",
       "\n",
       "    .dataframe tbody tr th {\n",
       "        vertical-align: top;\n",
       "    }\n",
       "\n",
       "    .dataframe thead th {\n",
       "        text-align: right;\n",
       "    }\n",
       "</style>\n",
       "<table border=\"1\" class=\"dataframe\">\n",
       "  <thead>\n",
       "    <tr style=\"text-align: right;\">\n",
       "      <th></th>\n",
       "      <th>index</th>\n",
       "      <th>id</th>\n",
       "      <th>group</th>\n",
       "      <th>value</th>\n",
       "    </tr>\n",
       "  </thead>\n",
       "  <tbody>\n",
       "    <tr>\n",
       "      <th>0</th>\n",
       "      <td>0</td>\n",
       "      <td>1</td>\n",
       "      <td>x</td>\n",
       "      <td>0.45</td>\n",
       "    </tr>\n",
       "    <tr>\n",
       "      <th>1</th>\n",
       "      <td>1</td>\n",
       "      <td>2</td>\n",
       "      <td>x</td>\n",
       "      <td>0.67</td>\n",
       "    </tr>\n",
       "    <tr>\n",
       "      <th>2</th>\n",
       "      <td>2</td>\n",
       "      <td>3</td>\n",
       "      <td>x</td>\n",
       "      <td>NaN</td>\n",
       "    </tr>\n",
       "    <tr>\n",
       "      <th>3</th>\n",
       "      <td>3</td>\n",
       "      <td>4</td>\n",
       "      <td>y</td>\n",
       "      <td>0.47</td>\n",
       "    </tr>\n",
       "    <tr>\n",
       "      <th>5</th>\n",
       "      <td>1</td>\n",
       "      <td>5</td>\n",
       "      <td>y</td>\n",
       "      <td>0.73</td>\n",
       "    </tr>\n",
       "    <tr>\n",
       "      <th>6</th>\n",
       "      <td>2</td>\n",
       "      <td>6</td>\n",
       "      <td>y</td>\n",
       "      <td>0.92</td>\n",
       "    </tr>\n",
       "  </tbody>\n",
       "</table>\n",
       "</div>"
      ],
      "text/plain": [
       "   index  id group  value\n",
       "0      0   1     x   0.45\n",
       "1      1   2     x   0.67\n",
       "2      2   3     x    NaN\n",
       "3      3   4     y   0.47\n",
       "5      1   5     y   0.73\n",
       "6      2   6     y   0.92"
      ]
     },
     "metadata": {},
     "output_type": "display_data"
    }
   ],
   "source": [
    "print(\"========= 填充空值 =========\")\n",
    "df_fillna = df.fillna(0)\n",
    "display(df_fillna)\n",
    "# 选取部分数据\n",
    "print(\"========= 去除重复 =========\")\n",
    "df_drop_duplicates = df.drop_duplicates(subset=['id'])\n",
    "display(df_drop_duplicates)"
   ]
  },
  {
   "cell_type": "markdown",
   "metadata": {},
   "source": [
    "### Column/Series\n",
    "\n",
    "DataFrame中的一列，数据操作的最小单元。\n",
    "在pandas中，称为Series"
   ]
  },
  {
   "cell_type": "code",
   "execution_count": 29,
   "metadata": {
    "scrolled": true
   },
   "outputs": [
    {
     "data": {
      "text/plain": [
       "0    0.45\n",
       "1    0.67\n",
       "2     NaN\n",
       "3    0.47\n",
       "4    0.89\n",
       "5    0.73\n",
       "6    0.92\n",
       "Name: value, dtype: float64"
      ]
     },
     "execution_count": 29,
     "metadata": {},
     "output_type": "execute_result"
    }
   ],
   "source": [
    "# 选取value列\n",
    "\n",
    "df['value']"
   ]
  },
  {
   "cell_type": "code",
   "execution_count": 41,
   "metadata": {},
   "outputs": [
    {
     "data": {
      "text/plain": [
       "0    False\n",
       "1    False\n",
       "2     True\n",
       "3    False\n",
       "4    False\n",
       "5    False\n",
       "6    False\n",
       "Name: value, dtype: bool"
      ]
     },
     "execution_count": 41,
     "metadata": {},
     "output_type": "execute_result"
    }
   ],
   "source": [
    "# is_null\n",
    "df['value'].isnull()"
   ]
  },
  {
   "cell_type": "code",
   "execution_count": 31,
   "metadata": {},
   "outputs": [
    {
     "data": {
      "text/plain": [
       "0    1.45\n",
       "1    1.67\n",
       "2     NaN\n",
       "3    1.47\n",
       "4    1.89\n",
       "5    1.73\n",
       "6    1.92\n",
       "Name: value, dtype: float64"
      ]
     },
     "metadata": {},
     "output_type": "display_data"
    },
    {
     "data": {
      "text/plain": [
       "0    4.5\n",
       "1    6.7\n",
       "2    NaN\n",
       "3    4.7\n",
       "4    8.9\n",
       "5    7.3\n",
       "6    9.2\n",
       "Name: value, dtype: float64"
      ]
     },
     "metadata": {},
     "output_type": "display_data"
    }
   ],
   "source": [
    "# Series可以直接进行四则运算,会分别作用到每个元素上\n",
    "display(df['value']+1)\n",
    "\n",
    "display(df['value']*10)"
   ]
  },
  {
   "cell_type": "code",
   "execution_count": 33,
   "metadata": {
    "scrolled": false
   },
   "outputs": [
    {
     "data": {
      "text/html": [
       "<div>\n",
       "<style scoped>\n",
       "    .dataframe tbody tr th:only-of-type {\n",
       "        vertical-align: middle;\n",
       "    }\n",
       "\n",
       "    .dataframe tbody tr th {\n",
       "        vertical-align: top;\n",
       "    }\n",
       "\n",
       "    .dataframe thead th {\n",
       "        text-align: right;\n",
       "    }\n",
       "</style>\n",
       "<table border=\"1\" class=\"dataframe\">\n",
       "  <thead>\n",
       "    <tr style=\"text-align: right;\">\n",
       "      <th></th>\n",
       "      <th>index</th>\n",
       "      <th>id</th>\n",
       "      <th>group</th>\n",
       "      <th>value</th>\n",
       "      <th>new_value</th>\n",
       "    </tr>\n",
       "  </thead>\n",
       "  <tbody>\n",
       "    <tr>\n",
       "      <th>0</th>\n",
       "      <td>0</td>\n",
       "      <td>1</td>\n",
       "      <td>x</td>\n",
       "      <td>0.45</td>\n",
       "      <td>4.5</td>\n",
       "    </tr>\n",
       "    <tr>\n",
       "      <th>1</th>\n",
       "      <td>1</td>\n",
       "      <td>2</td>\n",
       "      <td>x</td>\n",
       "      <td>0.67</td>\n",
       "      <td>6.7</td>\n",
       "    </tr>\n",
       "    <tr>\n",
       "      <th>2</th>\n",
       "      <td>2</td>\n",
       "      <td>3</td>\n",
       "      <td>x</td>\n",
       "      <td>NaN</td>\n",
       "      <td>NaN</td>\n",
       "    </tr>\n",
       "    <tr>\n",
       "      <th>3</th>\n",
       "      <td>3</td>\n",
       "      <td>4</td>\n",
       "      <td>y</td>\n",
       "      <td>0.47</td>\n",
       "      <td>4.7</td>\n",
       "    </tr>\n",
       "    <tr>\n",
       "      <th>4</th>\n",
       "      <td>0</td>\n",
       "      <td>4</td>\n",
       "      <td>y</td>\n",
       "      <td>0.89</td>\n",
       "      <td>8.9</td>\n",
       "    </tr>\n",
       "    <tr>\n",
       "      <th>5</th>\n",
       "      <td>1</td>\n",
       "      <td>5</td>\n",
       "      <td>y</td>\n",
       "      <td>0.73</td>\n",
       "      <td>7.3</td>\n",
       "    </tr>\n",
       "    <tr>\n",
       "      <th>6</th>\n",
       "      <td>2</td>\n",
       "      <td>6</td>\n",
       "      <td>y</td>\n",
       "      <td>0.92</td>\n",
       "      <td>9.2</td>\n",
       "    </tr>\n",
       "  </tbody>\n",
       "</table>\n",
       "</div>"
      ],
      "text/plain": [
       "   index  id group  value  new_value\n",
       "0      0   1     x   0.45        4.5\n",
       "1      1   2     x   0.67        6.7\n",
       "2      2   3     x    NaN        NaN\n",
       "3      3   4     y   0.47        4.7\n",
       "4      0   4     y   0.89        8.9\n",
       "5      1   5     y   0.73        7.3\n",
       "6      2   6     y   0.92        9.2"
      ]
     },
     "metadata": {},
     "output_type": "display_data"
    },
    {
     "data": {
      "text/html": [
       "<div>\n",
       "<style scoped>\n",
       "    .dataframe tbody tr th:only-of-type {\n",
       "        vertical-align: middle;\n",
       "    }\n",
       "\n",
       "    .dataframe tbody tr th {\n",
       "        vertical-align: top;\n",
       "    }\n",
       "\n",
       "    .dataframe thead th {\n",
       "        text-align: right;\n",
       "    }\n",
       "</style>\n",
       "<table border=\"1\" class=\"dataframe\">\n",
       "  <thead>\n",
       "    <tr style=\"text-align: right;\">\n",
       "      <th></th>\n",
       "      <th>index</th>\n",
       "      <th>id</th>\n",
       "      <th>group</th>\n",
       "      <th>value</th>\n",
       "      <th>new_value</th>\n",
       "    </tr>\n",
       "  </thead>\n",
       "  <tbody>\n",
       "    <tr>\n",
       "      <th>0</th>\n",
       "      <td>0</td>\n",
       "      <td>1</td>\n",
       "      <td>x</td>\n",
       "      <td>0.45</td>\n",
       "      <td>0.45</td>\n",
       "    </tr>\n",
       "    <tr>\n",
       "      <th>1</th>\n",
       "      <td>1</td>\n",
       "      <td>2</td>\n",
       "      <td>x</td>\n",
       "      <td>0.67</td>\n",
       "      <td>0.67</td>\n",
       "    </tr>\n",
       "    <tr>\n",
       "      <th>2</th>\n",
       "      <td>2</td>\n",
       "      <td>3</td>\n",
       "      <td>x</td>\n",
       "      <td>NaN</td>\n",
       "      <td>NaN</td>\n",
       "    </tr>\n",
       "    <tr>\n",
       "      <th>3</th>\n",
       "      <td>3</td>\n",
       "      <td>4</td>\n",
       "      <td>y</td>\n",
       "      <td>0.47</td>\n",
       "      <td>0.47</td>\n",
       "    </tr>\n",
       "    <tr>\n",
       "      <th>4</th>\n",
       "      <td>0</td>\n",
       "      <td>4</td>\n",
       "      <td>y</td>\n",
       "      <td>0.89</td>\n",
       "      <td>0.89</td>\n",
       "    </tr>\n",
       "    <tr>\n",
       "      <th>5</th>\n",
       "      <td>1</td>\n",
       "      <td>5</td>\n",
       "      <td>y</td>\n",
       "      <td>0.73</td>\n",
       "      <td>0.73</td>\n",
       "    </tr>\n",
       "    <tr>\n",
       "      <th>6</th>\n",
       "      <td>2</td>\n",
       "      <td>6</td>\n",
       "      <td>y</td>\n",
       "      <td>0.92</td>\n",
       "      <td>0.92</td>\n",
       "    </tr>\n",
       "  </tbody>\n",
       "</table>\n",
       "</div>"
      ],
      "text/plain": [
       "   index  id group  value  new_value\n",
       "0      0   1     x   0.45       0.45\n",
       "1      1   2     x   0.67       0.67\n",
       "2      2   3     x    NaN        NaN\n",
       "3      3   4     y   0.47       0.47\n",
       "4      0   4     y   0.89       0.89\n",
       "5      1   5     y   0.73       0.73\n",
       "6      2   6     y   0.92       0.92"
      ]
     },
     "metadata": {},
     "output_type": "display_data"
    }
   ],
   "source": [
    "# 可以为DataFrame添加新的列或者覆盖原本的列\n",
    "df['new_value'] = df['value']*10\n",
    "display(df)\n",
    "\n",
    "df['new_value'] = df['new_value']/10\n",
    "display(df)"
   ]
  },
  {
   "cell_type": "markdown",
   "metadata": {},
   "source": [
    "## Jupyter Notebook 小技巧"
   ]
  },
  {
   "cell_type": "markdown",
   "metadata": {
    "ExecuteTime": {
     "end_time": "2019-07-21T10:38:40.204757Z",
     "start_time": "2019-07-21T10:38:40.198515Z"
    }
   },
   "source": [
    "首先需要安装 notebook的插件管理器\n",
    "\n",
    "[参考教程](https://github.com/Jupyter-contrib/jupyter_nbextensions_configurator)\n",
    "\n",
    "打开终端输入命令行来执行安装\n",
    "\n",
    "如果使用anaconda\n",
    "```bash\n",
    "conda install -c conda-forge jupyter_nbextensions_configurator\n",
    "```\n",
    "\n",
    "如果使用pypi\n",
    "\n",
    "```bash\n",
    "pip install jupyter_nbextensions_configurator\n",
    "jupyter nbextensions_configurator enable --user\n",
    "```\n",
    "\n"
   ]
  },
  {
   "cell_type": "code",
   "execution_count": null,
   "metadata": {},
   "outputs": [],
   "source": [
    "也可以在命令前面加上!来执行终端命令"
   ]
  },
  {
   "cell_type": "code",
   "execution_count": 42,
   "metadata": {},
   "outputs": [
    {
     "name": "stdout",
     "output_type": "stream",
     "text": [
      "Looking in indexes: https://pypi.tuna.tsinghua.edu.cn/simple, http://pypi.yimian.com.cn/simple\n",
      "Requirement already satisfied: jupyter_nbextensions_configurator in /usr/local/lib/python3.7/site-packages (0.4.1)\n",
      "Requirement already satisfied: notebook>=4.0 in /usr/local/lib/python3.7/site-packages (from jupyter_nbextensions_configurator) (5.7.5)\n",
      "Requirement already satisfied: pyyaml in /usr/local/lib/python3.7/site-packages (from jupyter_nbextensions_configurator) (5.1.1)\n",
      "Requirement already satisfied: traitlets in /usr/local/lib/python3.7/site-packages (from jupyter_nbextensions_configurator) (4.3.2)\n",
      "Requirement already satisfied: tornado in /usr/local/lib/python3.7/site-packages (from jupyter_nbextensions_configurator) (5.1)\n",
      "Requirement already satisfied: jupyter-core in /usr/local/lib/python3.7/site-packages (from jupyter_nbextensions_configurator) (4.4.0)\n",
      "Requirement already satisfied: jupyter-contrib-core>=0.3.3 in /usr/local/lib/python3.7/site-packages (from jupyter_nbextensions_configurator) (0.3.3)\n",
      "Requirement already satisfied: ipykernel in /usr/local/lib/python3.7/site-packages (from notebook>=4.0->jupyter_nbextensions_configurator) (4.9.0)\n",
      "Requirement already satisfied: pyzmq>=17 in /usr/local/lib/python3.7/site-packages (from notebook>=4.0->jupyter_nbextensions_configurator) (17.1.2)\n",
      "Requirement already satisfied: terminado>=0.8.1 in /usr/local/lib/python3.7/site-packages (from notebook>=4.0->jupyter_nbextensions_configurator) (0.8.1)\n",
      "Requirement already satisfied: prometheus-client in /usr/local/lib/python3.7/site-packages (from notebook>=4.0->jupyter_nbextensions_configurator) (0.3.1)\n",
      "Requirement already satisfied: jinja2 in /usr/local/lib/python3.7/site-packages (from notebook>=4.0->jupyter_nbextensions_configurator) (2.10)\n",
      "Requirement already satisfied: ipython-genutils in /usr/local/lib/python3.7/site-packages (from notebook>=4.0->jupyter_nbextensions_configurator) (0.2.0)\n",
      "Requirement already satisfied: nbconvert in /usr/local/lib/python3.7/site-packages (from notebook>=4.0->jupyter_nbextensions_configurator) (5.3.1)\n",
      "Requirement already satisfied: jupyter-client>=5.2.0 in /usr/local/lib/python3.7/site-packages (from notebook>=4.0->jupyter_nbextensions_configurator) (5.2.3)\n",
      "Requirement already satisfied: nbformat in /usr/local/lib/python3.7/site-packages (from notebook>=4.0->jupyter_nbextensions_configurator) (4.4.0)\n",
      "Requirement already satisfied: Send2Trash in /usr/local/lib/python3.7/site-packages (from notebook>=4.0->jupyter_nbextensions_configurator) (1.5.0)\n",
      "Requirement already satisfied: decorator in /usr/local/lib/python3.7/site-packages (from traitlets->jupyter_nbextensions_configurator) (4.3.0)\n",
      "Requirement already satisfied: six in /usr/local/lib/python3.7/site-packages (from traitlets->jupyter_nbextensions_configurator) (1.11.0)\n",
      "Requirement already satisfied: setuptools in /usr/local/lib/python3.7/site-packages (from jupyter-contrib-core>=0.3.3->jupyter_nbextensions_configurator) (40.8.0)\n",
      "Requirement already satisfied: ipython>=4.0.0 in /usr/local/lib/python3.7/site-packages (from ipykernel->notebook>=4.0->jupyter_nbextensions_configurator) (6.5.0)\n",
      "Requirement already satisfied: ptyprocess; os_name != \"nt\" in /usr/local/lib/python3.7/site-packages (from terminado>=0.8.1->notebook>=4.0->jupyter_nbextensions_configurator) (0.6.0)\n",
      "Requirement already satisfied: MarkupSafe>=0.23 in /usr/local/lib/python3.7/site-packages (from jinja2->notebook>=4.0->jupyter_nbextensions_configurator) (1.0)\n",
      "Requirement already satisfied: bleach in /usr/local/lib/python3.7/site-packages (from nbconvert->notebook>=4.0->jupyter_nbextensions_configurator) (2.1.4)\n",
      "Requirement already satisfied: mistune>=0.7.4 in /usr/local/lib/python3.7/site-packages (from nbconvert->notebook>=4.0->jupyter_nbextensions_configurator) (0.8.3)\n",
      "Requirement already satisfied: pandocfilters>=1.4.1 in /usr/local/lib/python3.7/site-packages (from nbconvert->notebook>=4.0->jupyter_nbextensions_configurator) (1.4.2)\n",
      "Requirement already satisfied: testpath in /usr/local/lib/python3.7/site-packages (from nbconvert->notebook>=4.0->jupyter_nbextensions_configurator) (0.3.1)\n",
      "Requirement already satisfied: pygments in /usr/local/lib/python3.7/site-packages (from nbconvert->notebook>=4.0->jupyter_nbextensions_configurator) (2.2.0)\n",
      "Requirement already satisfied: entrypoints>=0.2.2 in /usr/local/lib/python3.7/site-packages (from nbconvert->notebook>=4.0->jupyter_nbextensions_configurator) (0.2.3)\n",
      "Requirement already satisfied: python-dateutil>=2.1 in /usr/local/lib/python3.7/site-packages (from jupyter-client>=5.2.0->notebook>=4.0->jupyter_nbextensions_configurator) (2.7.3)\n",
      "Requirement already satisfied: jsonschema!=2.5.0,>=2.4 in /usr/local/lib/python3.7/site-packages (from nbformat->notebook>=4.0->jupyter_nbextensions_configurator) (2.6.0)\n",
      "Requirement already satisfied: jedi>=0.10 in /usr/local/lib/python3.7/site-packages (from ipython>=4.0.0->ipykernel->notebook>=4.0->jupyter_nbextensions_configurator) (0.12.1)\n",
      "Requirement already satisfied: pickleshare in /usr/local/lib/python3.7/site-packages (from ipython>=4.0.0->ipykernel->notebook>=4.0->jupyter_nbextensions_configurator) (0.7.4)\n",
      "Requirement already satisfied: backcall in /usr/local/lib/python3.7/site-packages (from ipython>=4.0.0->ipykernel->notebook>=4.0->jupyter_nbextensions_configurator) (0.1.0)\n",
      "Requirement already satisfied: prompt-toolkit<2.0.0,>=1.0.15 in /usr/local/lib/python3.7/site-packages (from ipython>=4.0.0->ipykernel->notebook>=4.0->jupyter_nbextensions_configurator) (1.0.15)\n",
      "Requirement already satisfied: appnope; sys_platform == \"darwin\" in /usr/local/lib/python3.7/site-packages (from ipython>=4.0.0->ipykernel->notebook>=4.0->jupyter_nbextensions_configurator) (0.1.0)\n",
      "Requirement already satisfied: pexpect; sys_platform != \"win32\" in /usr/local/lib/python3.7/site-packages (from ipython>=4.0.0->ipykernel->notebook>=4.0->jupyter_nbextensions_configurator) (4.6.0)\n",
      "Requirement already satisfied: simplegeneric>0.8 in /usr/local/lib/python3.7/site-packages (from ipython>=4.0.0->ipykernel->notebook>=4.0->jupyter_nbextensions_configurator) (0.8.1)\n",
      "Requirement already satisfied: html5lib!=1.0b1,!=1.0b2,!=1.0b3,!=1.0b4,!=1.0b5,!=1.0b6,!=1.0b7,!=1.0b8,>=0.99999999pre in /usr/local/lib/python3.7/site-packages (from bleach->nbconvert->notebook>=4.0->jupyter_nbextensions_configurator) (1.0.1)\n",
      "Requirement already satisfied: parso>=0.3.0 in /usr/local/lib/python3.7/site-packages (from jedi>=0.10->ipython>=4.0.0->ipykernel->notebook>=4.0->jupyter_nbextensions_configurator) (0.3.1)\n",
      "Requirement already satisfied: wcwidth in /usr/local/lib/python3.7/site-packages (from prompt-toolkit<2.0.0,>=1.0.15->ipython>=4.0.0->ipykernel->notebook>=4.0->jupyter_nbextensions_configurator) (0.1.7)\n",
      "Requirement already satisfied: webencodings in /usr/local/lib/python3.7/site-packages (from html5lib!=1.0b1,!=1.0b2,!=1.0b3,!=1.0b4,!=1.0b5,!=1.0b6,!=1.0b7,!=1.0b8,>=0.99999999pre->bleach->nbconvert->notebook>=4.0->jupyter_nbextensions_configurator) (0.5.1)\n"
     ]
    }
   ],
   "source": [
    "!pip install jupyter_nbextensions_configurator"
   ]
  },
  {
   "cell_type": "code",
   "execution_count": 43,
   "metadata": {},
   "outputs": [
    {
     "name": "stdout",
     "output_type": "stream",
     "text": [
      "Enabling: jupyter_nbextensions_configurator\r\n",
      "- Writing config: /Users/lanxin/.jupyter\r\n",
      "    - Validating...\r\n",
      "      jupyter_nbextensions_configurator 0.4.1 \u001b[32mOK\u001b[0m\r\n",
      "Enabling notebook nbextension nbextensions_configurator/config_menu/main...\r\n",
      "Enabling tree nbextension nbextensions_configurator/tree_tab/main...\r\n"
     ]
    }
   ],
   "source": [
    "!jupyter nbextensions_configurator enable --user"
   ]
  },
  {
   "cell_type": "markdown",
   "metadata": {},
   "source": [
    "一些有用的插件\n",
    "\n",
    "* Tree Filter：快速搜索文件\n",
    "* Codefolding：代码折叠\n",
    "* Code prettify：代码自动整理\n",
    "* ExecuteTime：显示Cell执行时间\n",
    "* Table of Contents (2)：目录\n"
   ]
  },
  {
   "cell_type": "code",
   "execution_count": 44,
   "metadata": {
    "code_folding": []
   },
   "outputs": [],
   "source": [
    "def a():\n",
    "    print(\"a\")\n",
    "  "
   ]
  },
  {
   "cell_type": "code",
   "execution_count": 45,
   "metadata": {},
   "outputs": [],
   "source": [
    "a = 1"
   ]
  },
  {
   "cell_type": "code",
   "execution_count": null,
   "metadata": {},
   "outputs": [],
   "source": []
  }
 ],
 "metadata": {
  "kernelspec": {
   "display_name": "Python 3",
   "language": "python",
   "name": "python3"
  },
  "language_info": {
   "codemirror_mode": {
    "name": "ipython",
    "version": 3
   },
   "file_extension": ".py",
   "mimetype": "text/x-python",
   "name": "python",
   "nbconvert_exporter": "python",
   "pygments_lexer": "ipython3",
   "version": "3.7.2"
  },
  "toc": {
   "base_numbering": 1,
   "nav_menu": {},
   "number_sections": false,
   "sideBar": true,
   "skip_h1_title": false,
   "title_cell": "Table of Contents",
   "title_sidebar": "Contents",
   "toc_cell": false,
   "toc_position": {
    "height": "calc(100% - 180px)",
    "left": "10px",
    "top": "150px",
    "width": "287.969px"
   },
   "toc_section_display": true,
   "toc_window_display": true
  }
 },
 "nbformat": 4,
 "nbformat_minor": 2
}
