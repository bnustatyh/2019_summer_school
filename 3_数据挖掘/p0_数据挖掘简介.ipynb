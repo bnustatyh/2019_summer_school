{
 "cells": [
  {
   "cell_type": "markdown",
   "metadata": {},
   "source": [
    "## 数据挖掘简介"
   ]
  },
  {
   "cell_type": "markdown",
   "metadata": {},
   "source": [
    "### 1. 数据挖掘的意义\n",
    "    随着互联网、大数据时代的到来，我们的生活越来越离不开手机、电脑和网络，\n",
    "    各项活动数据也会以日志的形式记录存放在各大服务方的数据库中，而这其中的有些数据很有潜在的挖掘价值。\n",
    "    \n",
    "    有人说数据就像新的能源，而数据挖掘就像提炼石油一样，尽可能的从中提炼出有用的信息，而这个有用信息更多的时候指的是预测。\n",
    "\n",
    "### 2. 样本的构建与分析\n",
    "   1. 特征工程\n",
    "      1. 特征工程意义\n",
    "      \n",
    "           这些数据你可以理解成为一张张不同粒度的表，我们要做的就是从这些不同粒度来源的表中加工出 与我们建模样本粒度一致的字段（特征）。\n",
    "           \n",
    "           特征工程就是人为的设计X，通过人为的方式提高模型的表现，如果特征加工的好，简单的模型也能表现出优异的性能。\n",
    "           \n",
    "      2. 特征构建\n",
    "         - 也就是怎么样将数据转化为特征，在这点上机器学习和统计学体现出来明显的差异，机器学习不管数据是怎么来的，更加侧重结果是什么，即以预测目标导向。\n",
    "         \n",
    "         - 主要在于构建思路，对业务有所了解会起到重要，对于程序实现，本次教学采用的是python的pandas库\n",
    "         \n",
    "      3. 特征提取\n",
    "         - 主成分 embedding等降维方法\n",
    "          \n",
    "      4. 特征选择\n",
    "         - 衡量特征重要性的指标；有些算法本身就会包含这一步，例如lasso、决策树。\n",
    "         \n",
    "         \n",
    "   2. 标签处理\n",
    "   \n",
    "   3. 变量分析\n",
    "\n",
    "### 3. 机器学习算法的选择与使用 \n",
    "     LR、决策树、集成学习、深度学习等"
   ]
  },
  {
   "cell_type": "markdown",
   "metadata": {},
   "source": [
    "---\n",
    "## pandas数据处理函数的复习与补充"
   ]
  },
  {
   "cell_type": "markdown",
   "metadata": {},
   "source": [
    "* .apply()\n",
    "* pd.factorize()\n",
    "* pd.get_dummies()\n",
    "* .agg()\n",
    "* pd.cut()\n",
    "* pd.pivot_table()\n"
   ]
  },
  {
   "cell_type": "code",
   "execution_count": 1,
   "metadata": {},
   "outputs": [],
   "source": [
    "import numpy as np\n",
    "import pandas as pd\n",
    "\n",
    "df=pd.DataFrame({'编码':list('12345678'),'姓名':['赵','钱','孙','李','赵','钱','孙','李'],\n",
    "                 '性别':['男','女',np.nan,'女','男','女',np.nan,'女'],\n",
    "                 '科目':['语文','语文','语文','语文','数学','数学','数学','数学'],\n",
    "                 '分数':[5,3,7,8,7,4,9,8]})"
   ]
  },
  {
   "cell_type": "code",
   "execution_count": 2,
   "metadata": {},
   "outputs": [
    {
     "data": {
      "text/html": [
       "<div>\n",
       "<style scoped>\n",
       "    .dataframe tbody tr th:only-of-type {\n",
       "        vertical-align: middle;\n",
       "    }\n",
       "\n",
       "    .dataframe tbody tr th {\n",
       "        vertical-align: top;\n",
       "    }\n",
       "\n",
       "    .dataframe thead th {\n",
       "        text-align: right;\n",
       "    }\n",
       "</style>\n",
       "<table border=\"1\" class=\"dataframe\">\n",
       "  <thead>\n",
       "    <tr style=\"text-align: right;\">\n",
       "      <th></th>\n",
       "      <th>编码</th>\n",
       "      <th>姓名</th>\n",
       "      <th>性别</th>\n",
       "      <th>科目</th>\n",
       "      <th>分数</th>\n",
       "    </tr>\n",
       "  </thead>\n",
       "  <tbody>\n",
       "    <tr>\n",
       "      <th>0</th>\n",
       "      <td>1</td>\n",
       "      <td>赵</td>\n",
       "      <td>男</td>\n",
       "      <td>语文</td>\n",
       "      <td>5</td>\n",
       "    </tr>\n",
       "    <tr>\n",
       "      <th>1</th>\n",
       "      <td>2</td>\n",
       "      <td>钱</td>\n",
       "      <td>女</td>\n",
       "      <td>语文</td>\n",
       "      <td>3</td>\n",
       "    </tr>\n",
       "    <tr>\n",
       "      <th>2</th>\n",
       "      <td>3</td>\n",
       "      <td>孙</td>\n",
       "      <td>NaN</td>\n",
       "      <td>语文</td>\n",
       "      <td>7</td>\n",
       "    </tr>\n",
       "    <tr>\n",
       "      <th>3</th>\n",
       "      <td>4</td>\n",
       "      <td>李</td>\n",
       "      <td>女</td>\n",
       "      <td>语文</td>\n",
       "      <td>8</td>\n",
       "    </tr>\n",
       "    <tr>\n",
       "      <th>4</th>\n",
       "      <td>5</td>\n",
       "      <td>赵</td>\n",
       "      <td>男</td>\n",
       "      <td>数学</td>\n",
       "      <td>7</td>\n",
       "    </tr>\n",
       "    <tr>\n",
       "      <th>5</th>\n",
       "      <td>6</td>\n",
       "      <td>钱</td>\n",
       "      <td>女</td>\n",
       "      <td>数学</td>\n",
       "      <td>4</td>\n",
       "    </tr>\n",
       "    <tr>\n",
       "      <th>6</th>\n",
       "      <td>7</td>\n",
       "      <td>孙</td>\n",
       "      <td>NaN</td>\n",
       "      <td>数学</td>\n",
       "      <td>9</td>\n",
       "    </tr>\n",
       "    <tr>\n",
       "      <th>7</th>\n",
       "      <td>8</td>\n",
       "      <td>李</td>\n",
       "      <td>女</td>\n",
       "      <td>数学</td>\n",
       "      <td>8</td>\n",
       "    </tr>\n",
       "  </tbody>\n",
       "</table>\n",
       "</div>"
      ],
      "text/plain": [
       "  编码 姓名   性别  科目  分数\n",
       "0  1  赵    男  语文   5\n",
       "1  2  钱    女  语文   3\n",
       "2  3  孙  NaN  语文   7\n",
       "3  4  李    女  语文   8\n",
       "4  5  赵    男  数学   7\n",
       "5  6  钱    女  数学   4\n",
       "6  7  孙  NaN  数学   9\n",
       "7  8  李    女  数学   8"
      ]
     },
     "execution_count": 2,
     "metadata": {},
     "output_type": "execute_result"
    }
   ],
   "source": [
    "df"
   ]
  },
  {
   "cell_type": "markdown",
   "metadata": {},
   "source": [
    "### 数据操作函数 .apply()"
   ]
  },
  {
   "cell_type": "markdown",
   "metadata": {},
   "source": [
    "我们想增加一列作为总分"
   ]
  },
  {
   "cell_type": "code",
   "execution_count": 3,
   "metadata": {},
   "outputs": [
    {
     "data": {
      "text/html": [
       "<div>\n",
       "<style scoped>\n",
       "    .dataframe tbody tr th:only-of-type {\n",
       "        vertical-align: middle;\n",
       "    }\n",
       "\n",
       "    .dataframe tbody tr th {\n",
       "        vertical-align: top;\n",
       "    }\n",
       "\n",
       "    .dataframe thead th {\n",
       "        text-align: right;\n",
       "    }\n",
       "</style>\n",
       "<table border=\"1\" class=\"dataframe\">\n",
       "  <thead>\n",
       "    <tr style=\"text-align: right;\">\n",
       "      <th></th>\n",
       "      <th>编码</th>\n",
       "      <th>姓名</th>\n",
       "      <th>性别</th>\n",
       "      <th>科目</th>\n",
       "      <th>分数</th>\n",
       "      <th>总分</th>\n",
       "    </tr>\n",
       "  </thead>\n",
       "  <tbody>\n",
       "    <tr>\n",
       "      <th>0</th>\n",
       "      <td>1</td>\n",
       "      <td>赵</td>\n",
       "      <td>男</td>\n",
       "      <td>语文</td>\n",
       "      <td>5</td>\n",
       "      <td>12</td>\n",
       "    </tr>\n",
       "    <tr>\n",
       "      <th>1</th>\n",
       "      <td>2</td>\n",
       "      <td>钱</td>\n",
       "      <td>女</td>\n",
       "      <td>语文</td>\n",
       "      <td>3</td>\n",
       "      <td>7</td>\n",
       "    </tr>\n",
       "    <tr>\n",
       "      <th>2</th>\n",
       "      <td>3</td>\n",
       "      <td>孙</td>\n",
       "      <td>NaN</td>\n",
       "      <td>语文</td>\n",
       "      <td>7</td>\n",
       "      <td>16</td>\n",
       "    </tr>\n",
       "    <tr>\n",
       "      <th>3</th>\n",
       "      <td>4</td>\n",
       "      <td>李</td>\n",
       "      <td>女</td>\n",
       "      <td>语文</td>\n",
       "      <td>8</td>\n",
       "      <td>16</td>\n",
       "    </tr>\n",
       "    <tr>\n",
       "      <th>4</th>\n",
       "      <td>5</td>\n",
       "      <td>赵</td>\n",
       "      <td>男</td>\n",
       "      <td>数学</td>\n",
       "      <td>7</td>\n",
       "      <td>12</td>\n",
       "    </tr>\n",
       "    <tr>\n",
       "      <th>5</th>\n",
       "      <td>6</td>\n",
       "      <td>钱</td>\n",
       "      <td>女</td>\n",
       "      <td>数学</td>\n",
       "      <td>4</td>\n",
       "      <td>7</td>\n",
       "    </tr>\n",
       "    <tr>\n",
       "      <th>6</th>\n",
       "      <td>7</td>\n",
       "      <td>孙</td>\n",
       "      <td>NaN</td>\n",
       "      <td>数学</td>\n",
       "      <td>9</td>\n",
       "      <td>16</td>\n",
       "    </tr>\n",
       "    <tr>\n",
       "      <th>7</th>\n",
       "      <td>8</td>\n",
       "      <td>李</td>\n",
       "      <td>女</td>\n",
       "      <td>数学</td>\n",
       "      <td>8</td>\n",
       "      <td>16</td>\n",
       "    </tr>\n",
       "  </tbody>\n",
       "</table>\n",
       "</div>"
      ],
      "text/plain": [
       "  编码 姓名   性别  科目  分数  总分\n",
       "0  1  赵    男  语文   5  12\n",
       "1  2  钱    女  语文   3   7\n",
       "2  3  孙  NaN  语文   7  16\n",
       "3  4  李    女  语文   8  16\n",
       "4  5  赵    男  数学   7  12\n",
       "5  6  钱    女  数学   4   7\n",
       "6  7  孙  NaN  数学   9  16\n",
       "7  8  李    女  数学   8  16"
      ]
     },
     "execution_count": 3,
     "metadata": {},
     "output_type": "execute_result"
    }
   ],
   "source": [
    "df['总分'] = df.apply(lambda x:df[df['姓名']==x.姓名]['分数'].sum(),axis=1)\n",
    "\n",
    "df"
   ]
  },
  {
   "cell_type": "markdown",
   "metadata": {},
   "source": [
    "### 数字编码函数 `pd.factorize()`"
   ]
  },
  {
   "cell_type": "markdown",
   "metadata": {},
   "source": [
    "字符串特征转化为数字特征"
   ]
  },
  {
   "cell_type": "code",
   "execution_count": 4,
   "metadata": {},
   "outputs": [
    {
     "data": {
      "text/plain": [
       "Index(['男', '女'], dtype='object')"
      ]
     },
     "execution_count": 4,
     "metadata": {},
     "output_type": "execute_result"
    }
   ],
   "source": [
    "data = df.copy()\n",
    "data['性别'],uniques = pd.factorize(data['性别']) #空缺值默认转化为-1\n",
    "uniques"
   ]
  },
  {
   "cell_type": "code",
   "execution_count": 5,
   "metadata": {},
   "outputs": [
    {
     "data": {
      "text/html": [
       "<div>\n",
       "<style scoped>\n",
       "    .dataframe tbody tr th:only-of-type {\n",
       "        vertical-align: middle;\n",
       "    }\n",
       "\n",
       "    .dataframe tbody tr th {\n",
       "        vertical-align: top;\n",
       "    }\n",
       "\n",
       "    .dataframe thead th {\n",
       "        text-align: right;\n",
       "    }\n",
       "</style>\n",
       "<table border=\"1\" class=\"dataframe\">\n",
       "  <thead>\n",
       "    <tr style=\"text-align: right;\">\n",
       "      <th></th>\n",
       "      <th>编码</th>\n",
       "      <th>姓名</th>\n",
       "      <th>性别</th>\n",
       "      <th>科目</th>\n",
       "      <th>分数</th>\n",
       "      <th>总分</th>\n",
       "    </tr>\n",
       "  </thead>\n",
       "  <tbody>\n",
       "    <tr>\n",
       "      <th>0</th>\n",
       "      <td>1</td>\n",
       "      <td>赵</td>\n",
       "      <td>0</td>\n",
       "      <td>语文</td>\n",
       "      <td>5</td>\n",
       "      <td>12</td>\n",
       "    </tr>\n",
       "    <tr>\n",
       "      <th>1</th>\n",
       "      <td>2</td>\n",
       "      <td>钱</td>\n",
       "      <td>1</td>\n",
       "      <td>语文</td>\n",
       "      <td>3</td>\n",
       "      <td>7</td>\n",
       "    </tr>\n",
       "    <tr>\n",
       "      <th>2</th>\n",
       "      <td>3</td>\n",
       "      <td>孙</td>\n",
       "      <td>-1</td>\n",
       "      <td>语文</td>\n",
       "      <td>7</td>\n",
       "      <td>16</td>\n",
       "    </tr>\n",
       "    <tr>\n",
       "      <th>3</th>\n",
       "      <td>4</td>\n",
       "      <td>李</td>\n",
       "      <td>1</td>\n",
       "      <td>语文</td>\n",
       "      <td>8</td>\n",
       "      <td>16</td>\n",
       "    </tr>\n",
       "    <tr>\n",
       "      <th>4</th>\n",
       "      <td>5</td>\n",
       "      <td>赵</td>\n",
       "      <td>0</td>\n",
       "      <td>数学</td>\n",
       "      <td>7</td>\n",
       "      <td>12</td>\n",
       "    </tr>\n",
       "    <tr>\n",
       "      <th>5</th>\n",
       "      <td>6</td>\n",
       "      <td>钱</td>\n",
       "      <td>1</td>\n",
       "      <td>数学</td>\n",
       "      <td>4</td>\n",
       "      <td>7</td>\n",
       "    </tr>\n",
       "    <tr>\n",
       "      <th>6</th>\n",
       "      <td>7</td>\n",
       "      <td>孙</td>\n",
       "      <td>-1</td>\n",
       "      <td>数学</td>\n",
       "      <td>9</td>\n",
       "      <td>16</td>\n",
       "    </tr>\n",
       "    <tr>\n",
       "      <th>7</th>\n",
       "      <td>8</td>\n",
       "      <td>李</td>\n",
       "      <td>1</td>\n",
       "      <td>数学</td>\n",
       "      <td>8</td>\n",
       "      <td>16</td>\n",
       "    </tr>\n",
       "  </tbody>\n",
       "</table>\n",
       "</div>"
      ],
      "text/plain": [
       "  编码 姓名  性别  科目  分数  总分\n",
       "0  1  赵   0  语文   5  12\n",
       "1  2  钱   1  语文   3   7\n",
       "2  3  孙  -1  语文   7  16\n",
       "3  4  李   1  语文   8  16\n",
       "4  5  赵   0  数学   7  12\n",
       "5  6  钱   1  数学   4   7\n",
       "6  7  孙  -1  数学   9  16\n",
       "7  8  李   1  数学   8  16"
      ]
     },
     "execution_count": 5,
     "metadata": {},
     "output_type": "execute_result"
    }
   ],
   "source": [
    "data "
   ]
  },
  {
   "cell_type": "markdown",
   "metadata": {},
   "source": [
    "### one-hot编码函数 `pd.get_dummies()`"
   ]
  },
  {
   "cell_type": "markdown",
   "metadata": {},
   "source": [
    "我们想对性别进行one_hot编码"
   ]
  },
  {
   "cell_type": "code",
   "execution_count": 6,
   "metadata": {},
   "outputs": [
    {
     "data": {
      "text/html": [
       "<div>\n",
       "<style scoped>\n",
       "    .dataframe tbody tr th:only-of-type {\n",
       "        vertical-align: middle;\n",
       "    }\n",
       "\n",
       "    .dataframe tbody tr th {\n",
       "        vertical-align: top;\n",
       "    }\n",
       "\n",
       "    .dataframe thead th {\n",
       "        text-align: right;\n",
       "    }\n",
       "</style>\n",
       "<table border=\"1\" class=\"dataframe\">\n",
       "  <thead>\n",
       "    <tr style=\"text-align: right;\">\n",
       "      <th></th>\n",
       "      <th>编码</th>\n",
       "      <th>姓名</th>\n",
       "      <th>科目</th>\n",
       "      <th>分数</th>\n",
       "      <th>总分</th>\n",
       "      <th>性别_女</th>\n",
       "      <th>性别_男</th>\n",
       "      <th>性别_nan</th>\n",
       "    </tr>\n",
       "  </thead>\n",
       "  <tbody>\n",
       "    <tr>\n",
       "      <th>0</th>\n",
       "      <td>1</td>\n",
       "      <td>赵</td>\n",
       "      <td>语文</td>\n",
       "      <td>5</td>\n",
       "      <td>12</td>\n",
       "      <td>0</td>\n",
       "      <td>1</td>\n",
       "      <td>0</td>\n",
       "    </tr>\n",
       "    <tr>\n",
       "      <th>1</th>\n",
       "      <td>2</td>\n",
       "      <td>钱</td>\n",
       "      <td>语文</td>\n",
       "      <td>3</td>\n",
       "      <td>7</td>\n",
       "      <td>1</td>\n",
       "      <td>0</td>\n",
       "      <td>0</td>\n",
       "    </tr>\n",
       "    <tr>\n",
       "      <th>2</th>\n",
       "      <td>3</td>\n",
       "      <td>孙</td>\n",
       "      <td>语文</td>\n",
       "      <td>7</td>\n",
       "      <td>16</td>\n",
       "      <td>0</td>\n",
       "      <td>0</td>\n",
       "      <td>1</td>\n",
       "    </tr>\n",
       "    <tr>\n",
       "      <th>3</th>\n",
       "      <td>4</td>\n",
       "      <td>李</td>\n",
       "      <td>语文</td>\n",
       "      <td>8</td>\n",
       "      <td>16</td>\n",
       "      <td>1</td>\n",
       "      <td>0</td>\n",
       "      <td>0</td>\n",
       "    </tr>\n",
       "    <tr>\n",
       "      <th>4</th>\n",
       "      <td>5</td>\n",
       "      <td>赵</td>\n",
       "      <td>数学</td>\n",
       "      <td>7</td>\n",
       "      <td>12</td>\n",
       "      <td>0</td>\n",
       "      <td>1</td>\n",
       "      <td>0</td>\n",
       "    </tr>\n",
       "    <tr>\n",
       "      <th>5</th>\n",
       "      <td>6</td>\n",
       "      <td>钱</td>\n",
       "      <td>数学</td>\n",
       "      <td>4</td>\n",
       "      <td>7</td>\n",
       "      <td>1</td>\n",
       "      <td>0</td>\n",
       "      <td>0</td>\n",
       "    </tr>\n",
       "    <tr>\n",
       "      <th>6</th>\n",
       "      <td>7</td>\n",
       "      <td>孙</td>\n",
       "      <td>数学</td>\n",
       "      <td>9</td>\n",
       "      <td>16</td>\n",
       "      <td>0</td>\n",
       "      <td>0</td>\n",
       "      <td>1</td>\n",
       "    </tr>\n",
       "    <tr>\n",
       "      <th>7</th>\n",
       "      <td>8</td>\n",
       "      <td>李</td>\n",
       "      <td>数学</td>\n",
       "      <td>8</td>\n",
       "      <td>16</td>\n",
       "      <td>1</td>\n",
       "      <td>0</td>\n",
       "      <td>0</td>\n",
       "    </tr>\n",
       "  </tbody>\n",
       "</table>\n",
       "</div>"
      ],
      "text/plain": [
       "  编码 姓名  科目  分数  总分  性别_女  性别_男  性别_nan\n",
       "0  1  赵  语文   5  12     0     1       0\n",
       "1  2  钱  语文   3   7     1     0       0\n",
       "2  3  孙  语文   7  16     0     0       1\n",
       "3  4  李  语文   8  16     1     0       0\n",
       "4  5  赵  数学   7  12     0     1       0\n",
       "5  6  钱  数学   4   7     1     0       0\n",
       "6  7  孙  数学   9  16     0     0       1\n",
       "7  8  李  数学   8  16     1     0       0"
      ]
     },
     "execution_count": 6,
     "metadata": {},
     "output_type": "execute_result"
    }
   ],
   "source": [
    "# 选择需要独热编码的字段\n",
    "categorical_columns = ['性别']\n",
    "# 是否将空值独热成一列\n",
    "nan_as_category = True\n",
    "\n",
    "pd.get_dummies(df, columns= categorical_columns, dummy_na= nan_as_category)"
   ]
  },
  {
   "cell_type": "markdown",
   "metadata": {},
   "source": [
    "### 数据聚合方法 `.agg()` （常与`groupby`连用）"
   ]
  },
  {
   "cell_type": "markdown",
   "metadata": {},
   "source": [
    "我们想对数据进行粒度的变化，转化以科目作为粒度"
   ]
  },
  {
   "cell_type": "code",
   "execution_count": 7,
   "metadata": {},
   "outputs": [
    {
     "data": {
      "text/html": [
       "<div>\n",
       "<style scoped>\n",
       "    .dataframe tbody tr th:only-of-type {\n",
       "        vertical-align: middle;\n",
       "    }\n",
       "\n",
       "    .dataframe tbody tr th {\n",
       "        vertical-align: top;\n",
       "    }\n",
       "\n",
       "    .dataframe thead tr th {\n",
       "        text-align: left;\n",
       "    }\n",
       "\n",
       "    .dataframe thead tr:last-of-type th {\n",
       "        text-align: right;\n",
       "    }\n",
       "</style>\n",
       "<table border=\"1\" class=\"dataframe\">\n",
       "  <thead>\n",
       "    <tr>\n",
       "      <th></th>\n",
       "      <th colspan=\"3\" halign=\"left\">分数</th>\n",
       "    </tr>\n",
       "    <tr>\n",
       "      <th></th>\n",
       "      <th>size</th>\n",
       "      <th>max</th>\n",
       "      <th>最小值</th>\n",
       "    </tr>\n",
       "    <tr>\n",
       "      <th>科目</th>\n",
       "      <th></th>\n",
       "      <th></th>\n",
       "      <th></th>\n",
       "    </tr>\n",
       "  </thead>\n",
       "  <tbody>\n",
       "    <tr>\n",
       "      <th>数学</th>\n",
       "      <td>4</td>\n",
       "      <td>9</td>\n",
       "      <td>4</td>\n",
       "    </tr>\n",
       "    <tr>\n",
       "      <th>语文</th>\n",
       "      <td>4</td>\n",
       "      <td>8</td>\n",
       "      <td>3</td>\n",
       "    </tr>\n",
       "  </tbody>\n",
       "</table>\n",
       "</div>"
      ],
      "text/plain": [
       "     分数        \n",
       "   size max 最小值\n",
       "科目             \n",
       "数学    4   9   4\n",
       "语文    4   8   3"
      ]
     },
     "execution_count": 7,
     "metadata": {},
     "output_type": "execute_result"
    }
   ],
   "source": [
    "df.groupby('科目').agg({'分数':['size','max',('最小值','min')]})"
   ]
  },
  {
   "cell_type": "markdown",
   "metadata": {},
   "source": [
    "### 分段映射函数 `pd.cut()`"
   ]
  },
  {
   "cell_type": "markdown",
   "metadata": {},
   "source": [
    "我们想让分数根据不同分段映射为优良中差"
   ]
  },
  {
   "cell_type": "code",
   "execution_count": 8,
   "metadata": {},
   "outputs": [
    {
     "data": {
      "text/plain": [
       "0    差\n",
       "1    差\n",
       "2    中\n",
       "3    良\n",
       "4    中\n",
       "5    差\n",
       "6    良\n",
       "7    良\n",
       "Name: 分数, dtype: category\n",
       "Categories (4, object): [差 < 中 < 良 < 优]"
      ]
     },
     "execution_count": 8,
     "metadata": {},
     "output_type": "execute_result"
    }
   ],
   "source": [
    "# 设置分段点,默认左开右闭\n",
    "bins = [0,5,7,9,10]\n",
    "\n",
    "# 设置映射到的内容\n",
    "labels = ['差','中','良','优']\n",
    "\n",
    "pd.cut(df['分数'], bins, labels = labels)"
   ]
  },
  {
   "cell_type": "code",
   "execution_count": 9,
   "metadata": {},
   "outputs": [
    {
     "data": {
      "text/plain": [
       "良    3\n",
       "差    3\n",
       "中    2\n",
       "优    0\n",
       "Name: 分数, dtype: int64"
      ]
     },
     "execution_count": 9,
     "metadata": {},
     "output_type": "execute_result"
    }
   ],
   "source": [
    "# 进而可以对其进行统计\n",
    "pd.cut(df['分数'], bins, labels = labels).value_counts()"
   ]
  },
  {
   "cell_type": "markdown",
   "metadata": {},
   "source": [
    "### 数据透视表函数 `pd.pivot_table()`"
   ]
  },
  {
   "cell_type": "markdown",
   "metadata": {},
   "source": [
    "我们想对**不同学生**的**不同科目**的**分数**进行一些简单**统计**"
   ]
  },
  {
   "cell_type": "code",
   "execution_count": 10,
   "metadata": {},
   "outputs": [
    {
     "data": {
      "text/html": [
       "<div>\n",
       "<style scoped>\n",
       "    .dataframe tbody tr th:only-of-type {\n",
       "        vertical-align: middle;\n",
       "    }\n",
       "\n",
       "    .dataframe tbody tr th {\n",
       "        vertical-align: top;\n",
       "    }\n",
       "\n",
       "    .dataframe thead tr th {\n",
       "        text-align: left;\n",
       "    }\n",
       "\n",
       "    .dataframe thead tr:last-of-type th {\n",
       "        text-align: right;\n",
       "    }\n",
       "</style>\n",
       "<table border=\"1\" class=\"dataframe\">\n",
       "  <thead>\n",
       "    <tr>\n",
       "      <th></th>\n",
       "      <th colspan=\"2\" halign=\"left\">max</th>\n",
       "      <th colspan=\"2\" halign=\"left\">mean</th>\n",
       "    </tr>\n",
       "    <tr>\n",
       "      <th></th>\n",
       "      <th colspan=\"2\" halign=\"left\">分数</th>\n",
       "      <th colspan=\"2\" halign=\"left\">分数</th>\n",
       "    </tr>\n",
       "    <tr>\n",
       "      <th>科目</th>\n",
       "      <th>数学</th>\n",
       "      <th>语文</th>\n",
       "      <th>数学</th>\n",
       "      <th>语文</th>\n",
       "    </tr>\n",
       "    <tr>\n",
       "      <th>姓名</th>\n",
       "      <th></th>\n",
       "      <th></th>\n",
       "      <th></th>\n",
       "      <th></th>\n",
       "    </tr>\n",
       "  </thead>\n",
       "  <tbody>\n",
       "    <tr>\n",
       "      <th>孙</th>\n",
       "      <td>9</td>\n",
       "      <td>7</td>\n",
       "      <td>9</td>\n",
       "      <td>7</td>\n",
       "    </tr>\n",
       "    <tr>\n",
       "      <th>李</th>\n",
       "      <td>8</td>\n",
       "      <td>8</td>\n",
       "      <td>8</td>\n",
       "      <td>8</td>\n",
       "    </tr>\n",
       "    <tr>\n",
       "      <th>赵</th>\n",
       "      <td>7</td>\n",
       "      <td>5</td>\n",
       "      <td>7</td>\n",
       "      <td>5</td>\n",
       "    </tr>\n",
       "    <tr>\n",
       "      <th>钱</th>\n",
       "      <td>4</td>\n",
       "      <td>3</td>\n",
       "      <td>4</td>\n",
       "      <td>3</td>\n",
       "    </tr>\n",
       "  </tbody>\n",
       "</table>\n",
       "</div>"
      ],
      "text/plain": [
       "   max    mean   \n",
       "    分数      分数   \n",
       "科目  数学 语文   数学 语文\n",
       "姓名               \n",
       "孙    9  7    9  7\n",
       "李    8  8    8  8\n",
       "赵    7  5    7  5\n",
       "钱    4  3    4  3"
      ]
     },
     "execution_count": 10,
     "metadata": {},
     "output_type": "execute_result"
    }
   ],
   "source": [
    "pd.pivot_table(df,index=['姓名'],columns=['科目'],values=['分数'],aggfunc=['max','mean'])"
   ]
  },
  {
   "cell_type": "code",
   "execution_count": null,
   "metadata": {},
   "outputs": [],
   "source": []
  }
 ],
 "metadata": {
  "kernelspec": {
   "display_name": "Python 3",
   "language": "python",
   "name": "python3"
  },
  "language_info": {
   "codemirror_mode": {
    "name": "ipython",
    "version": 3
   },
   "file_extension": ".py",
   "mimetype": "text/x-python",
   "name": "python",
   "nbconvert_exporter": "python",
   "pygments_lexer": "ipython3",
   "version": "3.7.3"
  }
 },
 "nbformat": 4,
 "nbformat_minor": 2
}
